{
 "nbformat": 4,
 "nbformat_minor": 0,
 "metadata": {
  "kernelspec": {
   "display_name": "Python 3",
   "language": "python",
   "name": "python3"
  },
  "language_info": {
   "codemirror_mode": {
    "name": "ipython",
    "version": 3
   },
   "file_extension": ".py",
   "mimetype": "text/x-python",
   "name": "python",
   "nbconvert_exporter": "python",
   "pygments_lexer": "ipython3",
   "version": "3.7.7"
  },
  "colab": {
   "name": "[Temp] Classification.ipynb",
   "provenance": [],
   "collapsed_sections": [],
   "toc_visible": true
  }
 },
 "cells": [
  {
   "cell_type": "markdown",
   "metadata": {
    "id": "IJO-n2byJ_lY"
   },
   "source": "## CLASSIFICATION"
  },
  {
   "cell_type": "markdown",
   "metadata": {
    "id": "rZR9IwjIJ_lb"
   },
   "source": [
    "#### IMPORT PACKAGES"
   ]
  },
  {
   "cell_type": "code",
   "metadata": {
    "id": "7EZ9sGkuJ_lc"
   },
   "source": [
    "import pandas as pd\n",
    "import numpy as np\n",
    "import matplotlib.pyplot as plt\n",
    "import seaborn as sns\n",
    "from sklearn.model_selection import train_test_split, cross_val_score\n",
    "from sklearn.linear_model import LogisticRegression\n",
    "from sklearn.ensemble import RandomForestClassifier\n",
    "from sklearn.metrics import accuracy_score, confusion_matrix, classification_report\n",
    "from sklearn.preprocessing import StandardScaler, LabelEncoder"
   ],
   "execution_count": null,
   "outputs": []
  },
  {
   "cell_type": "markdown",
   "metadata": {
    "id": "f4DCJr9kJ_lc"
   },
   "source": [
    "#### READ DATASET"
   ]
  },
  {
   "cell_type": "code",
   "metadata": {
    "id": "fcrxS0OHJ_ld"
   },
   "source": "df = pd.read_csv('/path/to/reservasi_hotel.csv')",
   "execution_count": null,
   "outputs": []
  },
  {
   "cell_type": "markdown",
   "metadata": {
    "id": "fd42oBYAJ_ld"
   },
   "source": [
    "#### PROBLEM STATEMENT"
   ]
  },
  {
   "metadata": {},
   "cell_type": "markdown",
   "source": [
    "#### Analisis Profil Pelanggan\n",
    "\n",
    "• Perusahaan berusaha untuk memahami profil pelanggan di hotel mitra mereka, termasuk asal negara dan karakteristik pemesanan di hotel resort dan hotel kota.\n",
    "• Fokus utama perusahaan adalah mengurangi tingkat pembatalan dan pembatalan sebelumnya, dengan tujuan mengoptimalkan proses dan menerapkan kebijakan baru untuk menghindari kerugian perusahaan.\n",
    "• Mereka ingin mengembangkan model machine learning berdasarkan fitur-fitur yang ada untuk membantu meningkatkan situs web pemesanan hotel online mereka dan pengalaman pelanggan."
   ]
  },
  {
   "cell_type": "markdown",
   "metadata": {
    "id": "1LTjPkJzJ_lh"
   },
   "source": [
    "#### EDA"
   ]
  },
  {
   "cell_type": "code",
   "metadata": {
    "id": "3An3ZZ9qJ_lh"
   },
   "source": [
    "# Menampilkan lima baris pertama\n",
    "print(df.head())\n",
    "\n",
    "# Deskripsi statistik\n",
    "print(df.describe())\n",
    "\n",
    "# Cek nilai yang hilang\n",
    "print(df.isnull().sum())\n",
    "\n",
    "# Visualisasi distribusi variabel kategori\n",
    "sns.countplot(x='is_canceled', data=df)\n",
    "plt.show()\n",
    "\n",
    "# Korelasi antar fitur\n",
    "sns.heatmap(df.corr(), annot=True, fmt=\".2f\")\n",
    "plt.show()"
   ],
   "execution_count": null,
   "outputs": []
  },
  {
   "cell_type": "markdown",
   "metadata": {
    "id": "YCOLd_9KJ_lg"
   },
   "source": [
    "#### DATA PRE-PROCESSING"
   ]
  },
  {
   "cell_type": "code",
   "metadata": {
    "id": "npD283TpJ_lh"
   },
   "source": [
    "# Mengisi nilai yang hilang\n",
    "df.fillna(method='ffill', inplace=True)\n",
    "\n",
    "# Label encoding untuk variabel kategori\n",
    "le = LabelEncoder()\n",
    "df['hotel'] = le.fit_transform(df['hotel'])\n",
    "\n",
    "# Skala fitur numerik\n",
    "scaler = StandardScaler()\n",
    "df['lead_time'] = scaler.fit_transform(df[['lead_time']])"
   ],
   "execution_count": null,
   "outputs": []
  },
  {
   "cell_type": "markdown",
   "metadata": {
    "id": "31xYfZiLJ_li"
   },
   "source": [
    "#### FEATURE ENGINEERING"
   ]
  },
  {
   "cell_type": "code",
   "metadata": {
    "id": "X-sP2k5vJ_lj"
   },
   "source": [
    "# Contoh: menggabungkan bulan kedatangan dan tahun kedatangan menjadi satu fitur\n",
    "df['arrival_date'] = df['arrival_date_year'].astype(str) + '-' + df['arrival_date_month']"
   ],
   "execution_count": null,
   "outputs": []
  },
  {
   "cell_type": "markdown",
   "metadata": {
    "id": "5w3A1_M7J_lj"
   },
   "source": [
    "#### MODELING"
   ]
  },
  {
   "cell_type": "code",
   "metadata": {
    "id": "HxVM-E6kJ_lk"
   },
   "source": [
    "# Pisahkan data menjadi fitur dan target\n",
    "X = df.drop('is_canceled', axis=1)\n",
    "y = df['is_canceled']\n",
    "\n",
    "# Split data menjadi training dan testing\n",
    "X_train, X_test, y_train, y_test = train_test_split(X, y, test_size=0.2, random_state=42)\n",
    "\n",
    "# Model Logistic Regression\n",
    "model_lr = LogisticRegression()\n",
    "model_lr.fit(X_train, y_train)\n",
    "predictions_lr = model_lr.predict(X_test)\n",
    "\n",
    "# Model Random Forest\n",
    "model_rf = RandomForestClassifier()\n",
    "model_rf.fit(X_train, y_train)\n",
    "predictions_rf = model_rf.predict(X_test)"
   ],
   "execution_count": null,
   "outputs": []
  },
  {
   "cell_type": "markdown",
   "metadata": {
    "id": "gDbQSokoJ_lk"
   },
   "source": [
    "#### EVALUATION"
   ]
  },
  {
   "cell_type": "code",
   "metadata": {
    "id": "T6xfhZ__J_lk"
   },
   "source": [
    "# Evaluasi Logistic Regression\n",
    "print(classification_report(y_test, predictions_lr))\n",
    "\n",
    "# Evaluasi Random Forest\n",
    "print(classification_report(y_test, predictions_rf))"
   ],
   "execution_count": null,
   "outputs": []
  },
  {
   "cell_type": "markdown",
   "metadata": {
    "id": "qLZAG3gUKPHg"
   },
   "source": [
    "### LOAD AND PREDICT NEW DATA"
   ]
  },
  {
   "cell_type": "code",
   "metadata": {
    "id": "lYpKG-VWKPwT"
   },
   "source": [
    "# Contoh memuat data baru\n",
    "new_data = pd.read_csv('/path/to/new_data.csv')\n",
    "new_data_processed = scaler.transform(new_data[['lead_time']])  # Misalkan hanya memproses lead_time\n",
    "\n",
    "# Prediksi menggunakan model Random Forest\n",
    "new_predictions = model_rf.predict(new_data_processed)\n",
    "print(new_predictions)"
   ],
   "execution_count": null,
   "outputs": []
  },
  {
   "cell_type": "markdown",
   "metadata": {
    "id": "qFWul082J_lk"
   },
   "source": [
    "### KESIMPULAN/SARAN"
   ]
  },
  {
   "metadata": {},
   "cell_type": "markdown",
   "source": "Itulah rangkaian langkah yang bisa diikuti untuk menganalisis dataset reservasi hotel. Pastikan untuk menyesuaikan kode dan langkah-langkah sesuai dengan spesifikasi dan kebutuhan data serta masalah spesifik yang ingin diselesaikan."
  }
 ]
}
